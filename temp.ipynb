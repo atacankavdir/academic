{
  "nbformat": 4,
  "nbformat_minor": 0,
  "metadata": {
    "colab": {
      "provenance": [],
      "mount_file_id": "1KdLnD8bZmD4G-6gC2ifdvq9e_tZK0K7T",
      "authorship_tag": "ABX9TyOs/TkKQZuXP3SI8eyfsJAM",
      "include_colab_link": true
    },
    "kernelspec": {
      "name": "python3",
      "display_name": "Python 3"
    },
    "language_info": {
      "name": "python"
    }
  },
  "cells": [
    {
      "cell_type": "markdown",
      "metadata": {
        "id": "view-in-github",
        "colab_type": "text"
      },
      "source": [
        "<a href=\"https://colab.research.google.com/github/atacankavdir/academic/blob/main/temp.ipynb\" target=\"_parent\"><img src=\"https://colab.research.google.com/assets/colab-badge.svg\" alt=\"Open In Colab\"/></a>"
      ]
    },
    {
      "cell_type": "code",
      "execution_count": null,
      "metadata": {
        "id": "O-Asg4KNsDl2"
      },
      "outputs": [],
      "source": [
        "import pandas as pd"
      ]
    },
    {
      "cell_type": "markdown",
      "source": [
        "# New section"
      ],
      "metadata": {
        "id": "MJkmFqUaX-rC"
      }
    },
    {
      "cell_type": "code",
      "source": [
        "import plotly as plt"
      ],
      "metadata": {
        "id": "u4gl5JBTsP6L"
      },
      "execution_count": null,
      "outputs": []
    },
    {
      "cell_type": "code",
      "source": [
        "''"
      ],
      "metadata": {
        "id": "OmW9C_HxsP8u"
      },
      "execution_count": null,
      "outputs": []
    }
  ]
}
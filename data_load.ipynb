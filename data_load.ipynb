{
  "cells": [
    {
      "cell_type": "markdown",
      "metadata": {
        "id": "view-in-github",
        "colab_type": "text"
      },
      "source": [
        "<a href=\"https://colab.research.google.com/github/atacankavdir/academic/blob/main/data_load.ipynb\" target=\"_parent\"><img src=\"https://colab.research.google.com/assets/colab-badge.svg\" alt=\"Open In Colab\"/></a>"
      ]
    },
    {
      "cell_type": "code",
      "execution_count": null,
      "metadata": {
        "colab": {
          "base_uri": "https://localhost:8080/"
        },
        "id": "2uiSMQfrCbQp",
        "outputId": "f110ed79-6e1e-482d-ce7f-dd11d94ea800"
      },
      "outputs": [
        {
          "name": "stdout",
          "output_type": "stream",
          "text": [
            "Collecting flipside\n",
            "  Downloading flipside-2.0.8-py3-none-any.whl (52 kB)\n",
            "\u001b[2K     \u001b[90m━━━━━━━━━━━━━━━━━━━━━━━━━━━━━━━━━━━━━━━━\u001b[0m \u001b[32m52.3/52.3 kB\u001b[0m \u001b[31m893.7 kB/s\u001b[0m eta \u001b[36m0:00:00\u001b[0m\n",
            "\u001b[?25hCollecting pydantic==1.10.9 (from flipside)\n",
            "  Downloading pydantic-1.10.9-cp310-cp310-manylinux_2_17_x86_64.manylinux2014_x86_64.whl (3.1 MB)\n",
            "\u001b[2K     \u001b[90m━━━━━━━━━━━━━━━━━━━━━━━━━━━━━━━━━━━━━━━━\u001b[0m \u001b[32m3.1/3.1 MB\u001b[0m \u001b[31m13.7 MB/s\u001b[0m eta \u001b[36m0:00:00\u001b[0m\n",
            "\u001b[?25hCollecting requests==2.29.0 (from flipside)\n",
            "  Downloading requests-2.29.0-py3-none-any.whl (62 kB)\n",
            "\u001b[2K     \u001b[90m━━━━━━━━━━━━━━━━━━━━━━━━━━━━━━━━━━━━━━━━\u001b[0m \u001b[32m62.5/62.5 kB\u001b[0m \u001b[31m7.4 MB/s\u001b[0m eta \u001b[36m0:00:00\u001b[0m\n",
            "\u001b[?25hRequirement already satisfied: typing-extensions>=4.2.0 in /usr/local/lib/python3.10/dist-packages (from pydantic==1.10.9->flipside) (4.10.0)\n",
            "Requirement already satisfied: charset-normalizer<4,>=2 in /usr/local/lib/python3.10/dist-packages (from requests==2.29.0->flipside) (3.3.2)\n",
            "Requirement already satisfied: idna<4,>=2.5 in /usr/local/lib/python3.10/dist-packages (from requests==2.29.0->flipside) (3.6)\n",
            "Collecting urllib3<1.27,>=1.21.1 (from requests==2.29.0->flipside)\n",
            "  Downloading urllib3-1.26.18-py2.py3-none-any.whl (143 kB)\n",
            "\u001b[2K     \u001b[90m━━━━━━━━━━━━━━━━━━━━━━━━━━━━━━━━━━━━━━━━\u001b[0m \u001b[32m143.8/143.8 kB\u001b[0m \u001b[31m14.1 MB/s\u001b[0m eta \u001b[36m0:00:00\u001b[0m\n",
            "\u001b[?25hRequirement already satisfied: certifi>=2017.4.17 in /usr/local/lib/python3.10/dist-packages (from requests==2.29.0->flipside) (2024.2.2)\n",
            "Installing collected packages: urllib3, pydantic, requests, flipside\n",
            "  Attempting uninstall: urllib3\n",
            "    Found existing installation: urllib3 2.0.7\n",
            "    Uninstalling urllib3-2.0.7:\n",
            "      Successfully uninstalled urllib3-2.0.7\n",
            "  Attempting uninstall: pydantic\n",
            "    Found existing installation: pydantic 2.6.4\n",
            "    Uninstalling pydantic-2.6.4:\n",
            "      Successfully uninstalled pydantic-2.6.4\n",
            "  Attempting uninstall: requests\n",
            "    Found existing installation: requests 2.31.0\n",
            "    Uninstalling requests-2.31.0:\n",
            "      Successfully uninstalled requests-2.31.0\n",
            "\u001b[31mERROR: pip's dependency resolver does not currently take into account all the packages that are installed. This behaviour is the source of the following dependency conflicts.\n",
            "google-colab 1.0.0 requires requests==2.31.0, but you have requests 2.29.0 which is incompatible.\n",
            "yfinance 0.2.37 requires requests>=2.31, but you have requests 2.29.0 which is incompatible.\u001b[0m\u001b[31m\n",
            "\u001b[0mSuccessfully installed flipside-2.0.8 pydantic-1.10.9 requests-2.29.0 urllib3-1.26.18\n"
          ]
        }
      ],
      "source": [
        "pip install flipside"
      ]
    },
    {
      "cell_type": "code",
      "execution_count": null,
      "metadata": {
        "id": "3EL5V1LNLAsL"
      },
      "outputs": [],
      "source": [
        "import pandas as pd\n",
        "from flipside import Flipside"
      ]
    },
    {
      "cell_type": "code",
      "execution_count": null,
      "metadata": {
        "id": "AofsgKPHLDwx"
      },
      "outputs": [],
      "source": [
        "# Initialize `Flipside` with your API Key and API Url\n",
        "flipside = Flipside(\"30a41e48-e8b2-4aae-9b4a-0162750b3712\", \"https://api-v2.flipsidecrypto.xyz\")\n",
        "\n",
        "sql = \"\"\"\n",
        "SELECT *\n",
        "  FROM\n",
        "      (\n",
        "      SELECT FROM_ADDRESS, TO_ADDRESS,\n",
        "             date_trunc('hour', block_timestamp) as hour,\n",
        "             ROUND(SUM(AMOUNT_PRECISE)) AS value_eth,\n",
        "             ROUND(SUM(AMOUNT_USD)) AS value_usd,\n",
        "             count(TX_HASH) as n_of_transfers\n",
        "        FROM ETHEREUM.CORE.EZ_NATIVE_TRANSFERS\n",
        "       WHERE block_timestamp >= '2022-01-01'\n",
        "       GROUP BY FROM_ADDRESS, TO_ADDRESS, date_trunc('hour', block_timestamp)\n",
        "      )\n",
        "  WHERE value_eth > 100\n",
        "\"\"\"\n",
        "\n",
        "# Run the query against Flipside's query engine and await the results\n",
        "query_result_set = flipside.query(sql)"
      ]
    },
    {
      "cell_type": "code",
      "execution_count": null,
      "metadata": {
        "id": "uKeX1OKLNc_c"
      },
      "outputs": [],
      "source": [
        "def pagination_function(query_result_set): # what page are we starting on?\n",
        "  current_page_number = 1\n",
        "\n",
        "  # How many records do we want to return in the page?\n",
        "  page_size = 10000\n",
        "\n",
        "  # set total pages to 1 higher than the `current_page_number` until\n",
        "  # we receive the total pages from `get_query_results` given the\n",
        "  # provided `page_size` (total_pages is dynamically determined by the API\n",
        "  # based on the `page_size` you provide)\n",
        "  total_pages = 2\n",
        "\n",
        "  # we'll store all the page results in `all_rows`\n",
        "  all_rows = []\n",
        "\n",
        "  while current_page_number <= total_pages:\n",
        "    results = flipside.get_query_results(\n",
        "      query_result_set.query_id,\n",
        "      page_number=current_page_number,\n",
        "      page_size=page_size\n",
        "    )\n",
        "\n",
        "    total_pages = results.page.totalPages\n",
        "    if results.records:\n",
        "        all_rows = all_rows + results.records\n",
        "\n",
        "    current_page_number += 1\n",
        "  return all_rows"
      ]
    },
    {
      "cell_type": "code",
      "execution_count": null,
      "metadata": {
        "id": "lmKjxoocNd5l"
      },
      "outputs": [],
      "source": [
        "all_rows = pagination_function(query_result_set)"
      ]
    },
    {
      "cell_type": "code",
      "execution_count": null,
      "metadata": {
        "id": "hkh80KodNsbA"
      },
      "outputs": [],
      "source": [
        "eth_stats_hourly = pd.DataFrame(all_rows)"
      ]
    },
    {
      "cell_type": "code",
      "execution_count": null,
      "metadata": {
        "colab": {
          "base_uri": "https://localhost:8080/",
          "height": 36
        },
        "id": "7rhP7Do0N3U2",
        "outputId": "06f3c3f7-bfd6-40c1-f19f-ea86ac4cb592"
      },
      "outputs": [
        {
          "output_type": "execute_result",
          "data": {
            "text/plain": [
              "'2022-01-01T00:00:00.000Z'"
            ],
            "application/vnd.google.colaboratory.intrinsic+json": {
              "type": "string"
            }
          },
          "metadata": {},
          "execution_count": 17
        }
      ],
      "source": [
        "eth_stats_hourly.hour.min()"
      ]
    },
    {
      "cell_type": "code",
      "execution_count": null,
      "metadata": {
        "colab": {
          "background_save": true
        },
        "id": "XYwkcmOwN48j"
      },
      "outputs": [],
      "source": [
        "import os\n",
        "# Mount Google Drive\n",
        "from google.colab import drive\n",
        "drive.mount('/content/drive')"
      ]
    },
    {
      "cell_type": "code",
      "execution_count": null,
      "metadata": {
        "id": "0Tm8IbtLO6UE"
      },
      "outputs": [],
      "source": [
        "eth_stats_hourly.to_parquet('/content/drive/My Drive/DS Masters/Data/flipside_snowflake_eth_trans/eth_hourly_100_eth.parquet')"
      ]
    },
    {
      "cell_type": "code",
      "execution_count": null,
      "metadata": {
        "id": "K3k3ddyhRqp3"
      },
      "outputs": [],
      "source": []
    }
  ],
  "metadata": {
    "colab": {
      "provenance": [],
      "mount_file_id": "1xgy-_ZB7KKC7g6u07XIqdzTIZIcVcIuF",
      "authorship_tag": "ABX9TyPteSDvYotJYe7bETMuuKJI",
      "include_colab_link": true
    },
    "kernelspec": {
      "display_name": "Python 3",
      "name": "python3"
    },
    "language_info": {
      "name": "python"
    }
  },
  "nbformat": 4,
  "nbformat_minor": 0
}
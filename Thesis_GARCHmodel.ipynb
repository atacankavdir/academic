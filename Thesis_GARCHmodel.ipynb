{
  "nbformat": 4,
  "nbformat_minor": 0,
  "metadata": {
    "colab": {
      "provenance": [],
      "mount_file_id": "1x-pNERhDQnwpilSUo9UlA1yVPpo97vfa",
      "authorship_tag": "ABX9TyNRB+UwntL1H76Dod+GAEe0",
      "include_colab_link": true
    },
    "kernelspec": {
      "name": "python3",
      "display_name": "Python 3"
    },
    "language_info": {
      "name": "python"
    }
  },
  "cells": [
    {
      "cell_type": "markdown",
      "metadata": {
        "id": "view-in-github",
        "colab_type": "text"
      },
      "source": [
        "<a href=\"https://colab.research.google.com/github/atacankavdir/academic/blob/main/Thesis_GARCHmodel.ipynb\" target=\"_parent\"><img src=\"https://colab.research.google.com/assets/colab-badge.svg\" alt=\"Open In Colab\"/></a>"
      ]
    },
    {
      "cell_type": "code",
      "execution_count": 1,
      "metadata": {
        "colab": {
          "base_uri": "https://localhost:8080/"
        },
        "id": "0g5lLkyuXv-h",
        "outputId": "74028a7f-0045-4af2-df66-824e6cd3549d"
      },
      "outputs": [
        {
          "output_type": "stream",
          "name": "stdout",
          "text": [
            "Collecting arch\n",
            "  Downloading arch-6.3.0-cp310-cp310-manylinux_2_17_x86_64.manylinux2014_x86_64.whl (982 kB)\n",
            "\u001b[2K     \u001b[90m━━━━━━━━━━━━━━━━━━━━━━━━━━━━━━━━━━━━━━━━\u001b[0m \u001b[32m983.0/983.0 kB\u001b[0m \u001b[31m11.1 MB/s\u001b[0m eta \u001b[36m0:00:00\u001b[0m\n",
            "\u001b[?25hRequirement already satisfied: numpy>=1.19 in /usr/local/lib/python3.10/dist-packages (from arch) (1.25.2)\n",
            "Requirement already satisfied: scipy>=1.5 in /usr/local/lib/python3.10/dist-packages (from arch) (1.11.4)\n",
            "Requirement already satisfied: pandas>=1.1 in /usr/local/lib/python3.10/dist-packages (from arch) (1.5.3)\n",
            "Requirement already satisfied: statsmodels>=0.12 in /usr/local/lib/python3.10/dist-packages (from arch) (0.14.1)\n",
            "Requirement already satisfied: python-dateutil>=2.8.1 in /usr/local/lib/python3.10/dist-packages (from pandas>=1.1->arch) (2.8.2)\n",
            "Requirement already satisfied: pytz>=2020.1 in /usr/local/lib/python3.10/dist-packages (from pandas>=1.1->arch) (2023.4)\n",
            "Requirement already satisfied: patsy>=0.5.4 in /usr/local/lib/python3.10/dist-packages (from statsmodels>=0.12->arch) (0.5.6)\n",
            "Requirement already satisfied: packaging>=21.3 in /usr/local/lib/python3.10/dist-packages (from statsmodels>=0.12->arch) (23.2)\n",
            "Requirement already satisfied: six in /usr/local/lib/python3.10/dist-packages (from patsy>=0.5.4->statsmodels>=0.12->arch) (1.16.0)\n",
            "Installing collected packages: arch\n",
            "Successfully installed arch-6.3.0\n"
          ]
        }
      ],
      "source": [
        "pip install arch"
      ]
    },
    {
      "cell_type": "code",
      "source": [
        "import numpy as np\n",
        "import pandas as pd\n",
        "from arch import arch_model\n",
        "\n",
        "def extract_volatility_from_prices(prices, p=1, q=1):\n",
        "    \"\"\"\n",
        "    Extracts volatility from price information using a GARCH model.\n",
        "\n",
        "    Parameters:\n",
        "    - prices: A pandas Series representing the price time series.\n",
        "    - p: The order of the GARCH model's lagged variance terms.\n",
        "    - q: The order of the GARCH model's lagged squared error terms.\n",
        "\n",
        "    Returns:\n",
        "    - model_fit: The fitted GARCH model.\n",
        "    - forecast: Forecasted volatility.\n",
        "    \"\"\"\n",
        "    # Ensure the input is a pandas Series\n",
        "    if not isinstance(prices, pd.Series):\n",
        "        raise ValueError(\"Input must be a pandas Series.\")\n",
        "\n",
        "    # Calculate log returns\n",
        "    returns = np.log(prices / prices.shift(1)).dropna()\n",
        "\n",
        "    # Model Specification for returns\n",
        "    model = arch_model(returns, mean='Zero', vol='GARCH', p=p, q=q)\n",
        "\n",
        "    # Fit the model to the returns\n",
        "    model_fit = model.fit(disp='off')\n",
        "\n",
        "    # Forecast the next step\n",
        "    forecast = model_fit.forecast(horizon=1)\n",
        "\n",
        "    return model_fit, forecast\n",
        "\n"
      ],
      "metadata": {
        "id": "9AMqe1wmYfPl"
      },
      "execution_count": 23,
      "outputs": []
    },
    {
      "cell_type": "code",
      "source": [
        "# Example usage:\n",
        "# Load your data into a pandas DataFrame\n",
        "data = pd.read_csv('Ethereum Historical Data.csv', index_col='Date', parse_dates=True)\n",
        "\n"
      ],
      "metadata": {
        "id": "vuEScIOQceO1"
      },
      "execution_count": 24,
      "outputs": []
    },
    {
      "cell_type": "code",
      "source": [
        "data['Price'] = [float(str(i).replace(\",\", \"\")) for i in data.Price]"
      ],
      "metadata": {
        "id": "sD66YNSfbHza"
      },
      "execution_count": 25,
      "outputs": []
    },
    {
      "cell_type": "code",
      "source": [
        "series = data['Price']\n",
        "series.astype('float')"
      ],
      "metadata": {
        "colab": {
          "base_uri": "https://localhost:8080/"
        },
        "id": "nq1W1a_3bX-s",
        "outputId": "2778623d-89a8-48a6-f8f6-87ecfd1f09c0"
      },
      "execution_count": 26,
      "outputs": [
        {
          "output_type": "execute_result",
          "data": {
            "text/plain": [
              "Date\n",
              "2024-02-22    2967.94\n",
              "2024-02-21    2971.18\n",
              "2024-02-20    3015.38\n",
              "2024-02-19    2944.80\n",
              "2024-02-18    2880.10\n",
              "               ...   \n",
              "2020-01-26     167.90\n",
              "2020-01-25     160.44\n",
              "2020-01-24     162.55\n",
              "2020-01-23     162.80\n",
              "2020-01-22     168.13\n",
              "Name: Price, Length: 1493, dtype: float64"
            ]
          },
          "metadata": {},
          "execution_count": 26
        }
      ]
    },
    {
      "cell_type": "code",
      "source": [
        "# Run GARCH model\n",
        "model_fit, forecast = run_garch_model(series)\n",
        "print(model_fit.summary())\n",
        "print(forecast.variance[-1:])"
      ],
      "metadata": {
        "colab": {
          "base_uri": "https://localhost:8080/"
        },
        "id": "9r-GipAPcObC",
        "outputId": "98ea6a22-0db6-4029-fd2f-a5e77dcf5d9c"
      },
      "execution_count": 27,
      "outputs": [
        {
          "output_type": "stream",
          "name": "stdout",
          "text": [
            "                       Zero Mean - GARCH Model Results                        \n",
            "==============================================================================\n",
            "Dep. Variable:                  Price   R-squared:                       0.000\n",
            "Mean Model:                 Zero Mean   Adj. R-squared:                  0.001\n",
            "Vol Model:                      GARCH   Log-Likelihood:               -12881.3\n",
            "Distribution:                  Normal   AIC:                           25768.5\n",
            "Method:            Maximum Likelihood   BIC:                           25784.5\n",
            "                                        No. Observations:                 1493\n",
            "Date:                Thu, Feb 22 2024   Df Residuals:                     1493\n",
            "Time:                        15:35:01   Df Model:                            0\n",
            "                              Volatility Model                              \n",
            "============================================================================\n",
            "                 coef    std err          t      P>|t|      95.0% Conf. Int.\n",
            "----------------------------------------------------------------------------\n",
            "omega      8.5987e+04   5611.561     15.323  5.359e-53 [7.499e+04,9.699e+04]\n",
            "alpha[1]       0.9208  5.166e-02     17.825  4.497e-71     [  0.820,  1.022]\n",
            "beta[1]    2.0947e-16  5.836e-02  3.589e-15      1.000     [ -0.114,  0.114]\n",
            "============================================================================\n",
            "\n",
            "Covariance estimator: robust\n",
            "                      h.1\n",
            "Date                     \n",
            "2020-01-22  112015.416285\n"
          ]
        },
        {
          "output_type": "stream",
          "name": "stderr",
          "text": [
            "/usr/local/lib/python3.10/dist-packages/arch/univariate/base.py:311: DataScaleWarning: y is poorly scaled, which may affect convergence of the optimizer when\n",
            "estimating the model parameters. The scale of y is 1.186e+06. Parameter\n",
            "estimation work better when this value is between 1 and 1000. The recommended\n",
            "rescaling is 0.01 * y.\n",
            "\n",
            "This warning can be disabled by either rescaling y before initializing the\n",
            "model or by setting rescale=False.\n",
            "\n",
            "  warnings.warn(\n"
          ]
        }
      ]
    },
    {
      "cell_type": "code",
      "source": [],
      "metadata": {
        "id": "ViNwdzN1dBsk"
      },
      "execution_count": null,
      "outputs": []
    }
  ]
}